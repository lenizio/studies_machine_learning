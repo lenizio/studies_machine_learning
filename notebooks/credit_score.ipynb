{
 "cells": [
  {
   "cell_type": "code",
   "execution_count": 2,
   "metadata": {},
   "outputs": [],
   "source": [
    "import sys\n",
    "sys.path.append('/home/lenizio/datascience/diabetes_project')\n",
    "import numpy as np\n",
    "import pandas as pd\n",
    "import matplotlib.pyplot as plt\n",
    "import models \n",
    "import seaborn as sns \n",
    "from models import multiple_linear_model as mult_lin\n",
    "from models import logistic_regression as logistic\n",
    "from sklearn.model_selection import train_test_split  \n",
    "from sklearn.linear_model import LinearRegression, LogisticRegression\n",
    "from sklearn.metrics import r2_score, confusion_matrix\n",
    "\n",
    "\n"
   ]
  },
  {
   "cell_type": "code",
   "execution_count": 3,
   "metadata": {},
   "outputs": [],
   "source": [
    "creditscore = pd.read_csv(r'/home/lenizio/datascience/diabetes_project/data/credit_score.csv')"
   ]
  },
  {
   "cell_type": "code",
   "execution_count": 4,
   "metadata": {},
   "outputs": [],
   "source": [
    "credit_score = creditscore.copy()"
   ]
  },
  {
   "cell_type": "code",
   "execution_count": 5,
   "metadata": {},
   "outputs": [
    {
     "name": "stdout",
     "output_type": "stream",
     "text": [
      "<class 'pandas.core.frame.DataFrame'>\n",
      "RangeIndex: 1000 entries, 0 to 999\n",
      "Data columns (total 87 columns):\n",
      " #   Column                   Non-Null Count  Dtype  \n",
      "---  ------                   --------------  -----  \n",
      " 0   CUST_ID                  1000 non-null   object \n",
      " 1   INCOME                   1000 non-null   int64  \n",
      " 2   SAVINGS                  1000 non-null   int64  \n",
      " 3   DEBT                     1000 non-null   int64  \n",
      " 4   R_SAVINGS_INCOME         1000 non-null   float64\n",
      " 5   R_DEBT_INCOME            1000 non-null   float64\n",
      " 6   R_DEBT_SAVINGS           1000 non-null   float64\n",
      " 7   T_CLOTHING_12            1000 non-null   int64  \n",
      " 8   T_CLOTHING_6             1000 non-null   int64  \n",
      " 9   R_CLOTHING               1000 non-null   float64\n",
      " 10  R_CLOTHING_INCOME        1000 non-null   float64\n",
      " 11  R_CLOTHING_SAVINGS       1000 non-null   float64\n",
      " 12  R_CLOTHING_DEBT          1000 non-null   float64\n",
      " 13  T_EDUCATION_12           1000 non-null   int64  \n",
      " 14  T_EDUCATION_6            1000 non-null   int64  \n",
      " 15  R_EDUCATION              1000 non-null   float64\n",
      " 16  R_EDUCATION_INCOME       1000 non-null   float64\n",
      " 17  R_EDUCATION_SAVINGS      1000 non-null   float64\n",
      " 18  R_EDUCATION_DEBT         1000 non-null   float64\n",
      " 19  T_ENTERTAINMENT_12       1000 non-null   int64  \n",
      " 20  T_ENTERTAINMENT_6        1000 non-null   int64  \n",
      " 21  R_ENTERTAINMENT          1000 non-null   float64\n",
      " 22  R_ENTERTAINMENT_INCOME   1000 non-null   float64\n",
      " 23  R_ENTERTAINMENT_SAVINGS  1000 non-null   float64\n",
      " 24  R_ENTERTAINMENT_DEBT     1000 non-null   float64\n",
      " 25  T_FINES_12               1000 non-null   int64  \n",
      " 26  T_FINES_6                1000 non-null   int64  \n",
      " 27  R_FINES                  1000 non-null   float64\n",
      " 28  R_FINES_INCOME           1000 non-null   float64\n",
      " 29  R_FINES_SAVINGS          1000 non-null   float64\n",
      " 30  R_FINES_DEBT             1000 non-null   float64\n",
      " 31  T_GAMBLING_12            1000 non-null   int64  \n",
      " 32  T_GAMBLING_6             1000 non-null   int64  \n",
      " 33  R_GAMBLING               1000 non-null   float64\n",
      " 34  R_GAMBLING_INCOME        1000 non-null   float64\n",
      " 35  R_GAMBLING_SAVINGS       1000 non-null   float64\n",
      " 36  R_GAMBLING_DEBT          1000 non-null   float64\n",
      " 37  T_GROCERIES_12           1000 non-null   int64  \n",
      " 38  T_GROCERIES_6            1000 non-null   int64  \n",
      " 39  R_GROCERIES              1000 non-null   float64\n",
      " 40  R_GROCERIES_INCOME       1000 non-null   float64\n",
      " 41  R_GROCERIES_SAVINGS      1000 non-null   float64\n",
      " 42  R_GROCERIES_DEBT         1000 non-null   float64\n",
      " 43  T_HEALTH_12              1000 non-null   int64  \n",
      " 44  T_HEALTH_6               1000 non-null   int64  \n",
      " 45  R_HEALTH                 1000 non-null   float64\n",
      " 46  R_HEALTH_INCOME          1000 non-null   float64\n",
      " 47  R_HEALTH_SAVINGS         1000 non-null   float64\n",
      " 48  R_HEALTH_DEBT            1000 non-null   float64\n",
      " 49  T_HOUSING_12             1000 non-null   int64  \n",
      " 50  T_HOUSING_6              1000 non-null   int64  \n",
      " 51  R_HOUSING                1000 non-null   float64\n",
      " 52  R_HOUSING_INCOME         1000 non-null   float64\n",
      " 53  R_HOUSING_SAVINGS        1000 non-null   float64\n",
      " 54  R_HOUSING_DEBT           1000 non-null   float64\n",
      " 55  T_TAX_12                 1000 non-null   int64  \n",
      " 56  T_TAX_6                  1000 non-null   int64  \n",
      " 57  R_TAX                    1000 non-null   float64\n",
      " 58  R_TAX_INCOME             1000 non-null   float64\n",
      " 59  R_TAX_SAVINGS            1000 non-null   float64\n",
      " 60  R_TAX_DEBT               1000 non-null   float64\n",
      " 61  T_TRAVEL_12              1000 non-null   int64  \n",
      " 62  T_TRAVEL_6               1000 non-null   int64  \n",
      " 63  R_TRAVEL                 1000 non-null   float64\n",
      " 64  R_TRAVEL_INCOME          1000 non-null   float64\n",
      " 65  R_TRAVEL_SAVINGS         1000 non-null   float64\n",
      " 66  R_TRAVEL_DEBT            1000 non-null   float64\n",
      " 67  T_UTILITIES_12           1000 non-null   int64  \n",
      " 68  T_UTILITIES_6            1000 non-null   int64  \n",
      " 69  R_UTILITIES              1000 non-null   float64\n",
      " 70  R_UTILITIES_INCOME       1000 non-null   float64\n",
      " 71  R_UTILITIES_SAVINGS      1000 non-null   float64\n",
      " 72  R_UTILITIES_DEBT         1000 non-null   float64\n",
      " 73  T_EXPENDITURE_12         1000 non-null   int64  \n",
      " 74  T_EXPENDITURE_6          1000 non-null   int64  \n",
      " 75  R_EXPENDITURE            1000 non-null   float64\n",
      " 76  R_EXPENDITURE_INCOME     1000 non-null   float64\n",
      " 77  R_EXPENDITURE_SAVINGS    1000 non-null   float64\n",
      " 78  R_EXPENDITURE_DEBT       1000 non-null   float64\n",
      " 79  CAT_GAMBLING             1000 non-null   object \n",
      " 80  CAT_DEBT                 1000 non-null   int64  \n",
      " 81  CAT_CREDIT_CARD          1000 non-null   int64  \n",
      " 82  CAT_MORTGAGE             1000 non-null   int64  \n",
      " 83  CAT_SAVINGS_ACCOUNT      1000 non-null   int64  \n",
      " 84  CAT_DEPENDENTS           1000 non-null   int64  \n",
      " 85  CREDIT_SCORE             1000 non-null   int64  \n",
      " 86  DEFAULT                  1000 non-null   int64  \n",
      "dtypes: float64(51), int64(34), object(2)\n",
      "memory usage: 679.8+ KB\n"
     ]
    }
   ],
   "source": [
    "credit_score.info()"
   ]
  },
  {
   "cell_type": "code",
   "execution_count": 6,
   "metadata": {},
   "outputs": [
    {
     "data": {
      "text/html": [
       "<div>\n",
       "<style scoped>\n",
       "    .dataframe tbody tr th:only-of-type {\n",
       "        vertical-align: middle;\n",
       "    }\n",
       "\n",
       "    .dataframe tbody tr th {\n",
       "        vertical-align: top;\n",
       "    }\n",
       "\n",
       "    .dataframe thead th {\n",
       "        text-align: right;\n",
       "    }\n",
       "</style>\n",
       "<table border=\"1\" class=\"dataframe\">\n",
       "  <thead>\n",
       "    <tr style=\"text-align: right;\">\n",
       "      <th></th>\n",
       "      <th>INCOME</th>\n",
       "      <th>SAVINGS</th>\n",
       "      <th>DEBT</th>\n",
       "      <th>R_SAVINGS_INCOME</th>\n",
       "      <th>R_DEBT_INCOME</th>\n",
       "      <th>R_DEBT_SAVINGS</th>\n",
       "      <th>T_CLOTHING_12</th>\n",
       "      <th>T_CLOTHING_6</th>\n",
       "      <th>R_CLOTHING</th>\n",
       "      <th>R_CLOTHING_INCOME</th>\n",
       "      <th>...</th>\n",
       "      <th>R_EXPENDITURE_INCOME</th>\n",
       "      <th>R_EXPENDITURE_SAVINGS</th>\n",
       "      <th>R_EXPENDITURE_DEBT</th>\n",
       "      <th>CAT_DEBT</th>\n",
       "      <th>CAT_CREDIT_CARD</th>\n",
       "      <th>CAT_MORTGAGE</th>\n",
       "      <th>CAT_SAVINGS_ACCOUNT</th>\n",
       "      <th>CAT_DEPENDENTS</th>\n",
       "      <th>CREDIT_SCORE</th>\n",
       "      <th>DEFAULT</th>\n",
       "    </tr>\n",
       "  </thead>\n",
       "  <tbody>\n",
       "    <tr>\n",
       "      <th>count</th>\n",
       "      <td>1000.000000</td>\n",
       "      <td>1.000000e+03</td>\n",
       "      <td>1.000000e+03</td>\n",
       "      <td>1000.000000</td>\n",
       "      <td>1000.000000</td>\n",
       "      <td>1000.000000</td>\n",
       "      <td>1000.000000</td>\n",
       "      <td>1000.000000</td>\n",
       "      <td>1000.000000</td>\n",
       "      <td>1000.000000</td>\n",
       "      <td>...</td>\n",
       "      <td>1000.000000</td>\n",
       "      <td>1000.000000</td>\n",
       "      <td>1000.000000</td>\n",
       "      <td>1000.000000</td>\n",
       "      <td>1000.000000</td>\n",
       "      <td>1000.000000</td>\n",
       "      <td>1000.000000</td>\n",
       "      <td>1000.00000</td>\n",
       "      <td>1000.000000</td>\n",
       "      <td>1000.000000</td>\n",
       "    </tr>\n",
       "    <tr>\n",
       "      <th>mean</th>\n",
       "      <td>121610.019000</td>\n",
       "      <td>4.131896e+05</td>\n",
       "      <td>7.907180e+05</td>\n",
       "      <td>4.063477</td>\n",
       "      <td>6.068449</td>\n",
       "      <td>5.867252</td>\n",
       "      <td>6822.401000</td>\n",
       "      <td>3466.320000</td>\n",
       "      <td>0.454848</td>\n",
       "      <td>0.055557</td>\n",
       "      <td>...</td>\n",
       "      <td>0.943607</td>\n",
       "      <td>0.913340</td>\n",
       "      <td>0.605276</td>\n",
       "      <td>0.944000</td>\n",
       "      <td>0.236000</td>\n",
       "      <td>0.173000</td>\n",
       "      <td>0.993000</td>\n",
       "      <td>0.15000</td>\n",
       "      <td>586.712000</td>\n",
       "      <td>0.284000</td>\n",
       "    </tr>\n",
       "    <tr>\n",
       "      <th>std</th>\n",
       "      <td>113716.699591</td>\n",
       "      <td>4.429160e+05</td>\n",
       "      <td>9.817904e+05</td>\n",
       "      <td>3.968097</td>\n",
       "      <td>5.847878</td>\n",
       "      <td>16.788356</td>\n",
       "      <td>7486.225932</td>\n",
       "      <td>5118.942977</td>\n",
       "      <td>0.236036</td>\n",
       "      <td>0.037568</td>\n",
       "      <td>...</td>\n",
       "      <td>0.168989</td>\n",
       "      <td>1.625278</td>\n",
       "      <td>1.299382</td>\n",
       "      <td>0.230037</td>\n",
       "      <td>0.424835</td>\n",
       "      <td>0.378437</td>\n",
       "      <td>0.083414</td>\n",
       "      <td>0.35725</td>\n",
       "      <td>63.413882</td>\n",
       "      <td>0.451162</td>\n",
       "    </tr>\n",
       "    <tr>\n",
       "      <th>min</th>\n",
       "      <td>0.000000</td>\n",
       "      <td>0.000000e+00</td>\n",
       "      <td>0.000000e+00</td>\n",
       "      <td>0.000000</td>\n",
       "      <td>0.000000</td>\n",
       "      <td>0.000000</td>\n",
       "      <td>0.000000</td>\n",
       "      <td>0.000000</td>\n",
       "      <td>0.000000</td>\n",
       "      <td>0.003400</td>\n",
       "      <td>...</td>\n",
       "      <td>0.666700</td>\n",
       "      <td>0.000000</td>\n",
       "      <td>0.000000</td>\n",
       "      <td>0.000000</td>\n",
       "      <td>0.000000</td>\n",
       "      <td>0.000000</td>\n",
       "      <td>0.000000</td>\n",
       "      <td>0.00000</td>\n",
       "      <td>300.000000</td>\n",
       "      <td>0.000000</td>\n",
       "    </tr>\n",
       "    <tr>\n",
       "      <th>25%</th>\n",
       "      <td>30450.250000</td>\n",
       "      <td>5.971975e+04</td>\n",
       "      <td>5.396675e+04</td>\n",
       "      <td>1.000000</td>\n",
       "      <td>1.454500</td>\n",
       "      <td>0.206200</td>\n",
       "      <td>1084.500000</td>\n",
       "      <td>319.500000</td>\n",
       "      <td>0.263950</td>\n",
       "      <td>0.029700</td>\n",
       "      <td>...</td>\n",
       "      <td>0.833300</td>\n",
       "      <td>0.158700</td>\n",
       "      <td>0.100000</td>\n",
       "      <td>1.000000</td>\n",
       "      <td>0.000000</td>\n",
       "      <td>0.000000</td>\n",
       "      <td>1.000000</td>\n",
       "      <td>0.00000</td>\n",
       "      <td>554.750000</td>\n",
       "      <td>0.000000</td>\n",
       "    </tr>\n",
       "    <tr>\n",
       "      <th>50%</th>\n",
       "      <td>85090.000000</td>\n",
       "      <td>2.738505e+05</td>\n",
       "      <td>3.950955e+05</td>\n",
       "      <td>2.545450</td>\n",
       "      <td>4.911550</td>\n",
       "      <td>2.000000</td>\n",
       "      <td>4494.000000</td>\n",
       "      <td>1304.000000</td>\n",
       "      <td>0.468850</td>\n",
       "      <td>0.046800</td>\n",
       "      <td>...</td>\n",
       "      <td>0.909100</td>\n",
       "      <td>0.327950</td>\n",
       "      <td>0.178600</td>\n",
       "      <td>1.000000</td>\n",
       "      <td>0.000000</td>\n",
       "      <td>0.000000</td>\n",
       "      <td>1.000000</td>\n",
       "      <td>0.00000</td>\n",
       "      <td>596.000000</td>\n",
       "      <td>0.000000</td>\n",
       "    </tr>\n",
       "    <tr>\n",
       "      <th>75%</th>\n",
       "      <td>181217.500000</td>\n",
       "      <td>6.222600e+05</td>\n",
       "      <td>1.193230e+06</td>\n",
       "      <td>6.307100</td>\n",
       "      <td>8.587475</td>\n",
       "      <td>4.509600</td>\n",
       "      <td>10148.500000</td>\n",
       "      <td>4555.500000</td>\n",
       "      <td>0.626300</td>\n",
       "      <td>0.069400</td>\n",
       "      <td>...</td>\n",
       "      <td>1.000000</td>\n",
       "      <td>0.833300</td>\n",
       "      <td>0.588200</td>\n",
       "      <td>1.000000</td>\n",
       "      <td>0.000000</td>\n",
       "      <td>0.000000</td>\n",
       "      <td>1.000000</td>\n",
       "      <td>0.00000</td>\n",
       "      <td>630.000000</td>\n",
       "      <td>1.000000</td>\n",
       "    </tr>\n",
       "    <tr>\n",
       "      <th>max</th>\n",
       "      <td>662094.000000</td>\n",
       "      <td>2.911863e+06</td>\n",
       "      <td>5.968620e+06</td>\n",
       "      <td>16.111200</td>\n",
       "      <td>37.000600</td>\n",
       "      <td>292.842100</td>\n",
       "      <td>43255.000000</td>\n",
       "      <td>39918.000000</td>\n",
       "      <td>1.058300</td>\n",
       "      <td>0.251700</td>\n",
       "      <td>...</td>\n",
       "      <td>2.000200</td>\n",
       "      <td>10.009900</td>\n",
       "      <td>10.005300</td>\n",
       "      <td>1.000000</td>\n",
       "      <td>1.000000</td>\n",
       "      <td>1.000000</td>\n",
       "      <td>1.000000</td>\n",
       "      <td>1.00000</td>\n",
       "      <td>800.000000</td>\n",
       "      <td>1.000000</td>\n",
       "    </tr>\n",
       "  </tbody>\n",
       "</table>\n",
       "<p>8 rows × 85 columns</p>\n",
       "</div>"
      ],
      "text/plain": [
       "              INCOME       SAVINGS          DEBT  R_SAVINGS_INCOME  \\\n",
       "count    1000.000000  1.000000e+03  1.000000e+03       1000.000000   \n",
       "mean   121610.019000  4.131896e+05  7.907180e+05          4.063477   \n",
       "std    113716.699591  4.429160e+05  9.817904e+05          3.968097   \n",
       "min         0.000000  0.000000e+00  0.000000e+00          0.000000   \n",
       "25%     30450.250000  5.971975e+04  5.396675e+04          1.000000   \n",
       "50%     85090.000000  2.738505e+05  3.950955e+05          2.545450   \n",
       "75%    181217.500000  6.222600e+05  1.193230e+06          6.307100   \n",
       "max    662094.000000  2.911863e+06  5.968620e+06         16.111200   \n",
       "\n",
       "       R_DEBT_INCOME  R_DEBT_SAVINGS  T_CLOTHING_12  T_CLOTHING_6  \\\n",
       "count    1000.000000     1000.000000    1000.000000   1000.000000   \n",
       "mean        6.068449        5.867252    6822.401000   3466.320000   \n",
       "std         5.847878       16.788356    7486.225932   5118.942977   \n",
       "min         0.000000        0.000000       0.000000      0.000000   \n",
       "25%         1.454500        0.206200    1084.500000    319.500000   \n",
       "50%         4.911550        2.000000    4494.000000   1304.000000   \n",
       "75%         8.587475        4.509600   10148.500000   4555.500000   \n",
       "max        37.000600      292.842100   43255.000000  39918.000000   \n",
       "\n",
       "        R_CLOTHING  R_CLOTHING_INCOME  ...  R_EXPENDITURE_INCOME  \\\n",
       "count  1000.000000        1000.000000  ...           1000.000000   \n",
       "mean      0.454848           0.055557  ...              0.943607   \n",
       "std       0.236036           0.037568  ...              0.168989   \n",
       "min       0.000000           0.003400  ...              0.666700   \n",
       "25%       0.263950           0.029700  ...              0.833300   \n",
       "50%       0.468850           0.046800  ...              0.909100   \n",
       "75%       0.626300           0.069400  ...              1.000000   \n",
       "max       1.058300           0.251700  ...              2.000200   \n",
       "\n",
       "       R_EXPENDITURE_SAVINGS  R_EXPENDITURE_DEBT     CAT_DEBT  \\\n",
       "count            1000.000000         1000.000000  1000.000000   \n",
       "mean                0.913340            0.605276     0.944000   \n",
       "std                 1.625278            1.299382     0.230037   \n",
       "min                 0.000000            0.000000     0.000000   \n",
       "25%                 0.158700            0.100000     1.000000   \n",
       "50%                 0.327950            0.178600     1.000000   \n",
       "75%                 0.833300            0.588200     1.000000   \n",
       "max                10.009900           10.005300     1.000000   \n",
       "\n",
       "       CAT_CREDIT_CARD  CAT_MORTGAGE  CAT_SAVINGS_ACCOUNT  CAT_DEPENDENTS  \\\n",
       "count      1000.000000   1000.000000          1000.000000      1000.00000   \n",
       "mean          0.236000      0.173000             0.993000         0.15000   \n",
       "std           0.424835      0.378437             0.083414         0.35725   \n",
       "min           0.000000      0.000000             0.000000         0.00000   \n",
       "25%           0.000000      0.000000             1.000000         0.00000   \n",
       "50%           0.000000      0.000000             1.000000         0.00000   \n",
       "75%           0.000000      0.000000             1.000000         0.00000   \n",
       "max           1.000000      1.000000             1.000000         1.00000   \n",
       "\n",
       "       CREDIT_SCORE      DEFAULT  \n",
       "count   1000.000000  1000.000000  \n",
       "mean     586.712000     0.284000  \n",
       "std       63.413882     0.451162  \n",
       "min      300.000000     0.000000  \n",
       "25%      554.750000     0.000000  \n",
       "50%      596.000000     0.000000  \n",
       "75%      630.000000     1.000000  \n",
       "max      800.000000     1.000000  \n",
       "\n",
       "[8 rows x 85 columns]"
      ]
     },
     "execution_count": 6,
     "metadata": {},
     "output_type": "execute_result"
    }
   ],
   "source": [
    "credit_score.describe()"
   ]
  },
  {
   "cell_type": "code",
   "execution_count": 7,
   "metadata": {},
   "outputs": [],
   "source": [
    "credit_score.set_index('CUST_ID', inplace=True)"
   ]
  },
  {
   "cell_type": "code",
   "execution_count": 8,
   "metadata": {},
   "outputs": [
    {
     "data": {
      "text/plain": [
       "array(['High', 'No', 'Low'], dtype=object)"
      ]
     },
     "execution_count": 8,
     "metadata": {},
     "output_type": "execute_result"
    }
   ],
   "source": [
    "credit_score.CAT_GAMBLING.unique()"
   ]
  },
  {
   "cell_type": "code",
   "execution_count": 9,
   "metadata": {},
   "outputs": [],
   "source": [
    "mapping = {'High': 2, 'No': 0, 'Low': 1}\n",
    "credit_score.CAT_GAMBLING = credit_score.CAT_GAMBLING.replace(mapping)"
   ]
  },
  {
   "cell_type": "code",
   "execution_count": 10,
   "metadata": {},
   "outputs": [],
   "source": [
    "X = credit_score.iloc[:, 0 :84].values"
   ]
  },
  {
   "cell_type": "code",
   "execution_count": 11,
   "metadata": {},
   "outputs": [],
   "source": [
    "X = mult_lin.zscore_normalize_features(X)"
   ]
  },
  {
   "cell_type": "code",
   "execution_count": 12,
   "metadata": {},
   "outputs": [],
   "source": [
    "Y=credit_score.iloc[:,85].values"
   ]
  },
  {
   "cell_type": "code",
   "execution_count": 13,
   "metadata": {},
   "outputs": [],
   "source": [
    "X_train, X_test, Y_train, Y_test = train_test_split(X, Y, test_size = 1/3, random_state = 0 )\n"
   ]
  },
  {
   "cell_type": "code",
   "execution_count": 65,
   "metadata": {},
   "outputs": [],
   "source": [
    "model = mult_lin.Linear_Regression( iterations = 1000, learning_rate = 0.01 ) \n"
   ]
  },
  {
   "cell_type": "code",
   "execution_count": 66,
   "metadata": {},
   "outputs": [
    {
     "data": {
      "text/plain": [
       "<models.multiple_linear_model.Linear_Regression at 0x7f7789b8f130>"
      ]
     },
     "execution_count": 66,
     "metadata": {},
     "output_type": "execute_result"
    }
   ],
   "source": [
    "model.fit(X_train,Y_train)"
   ]
  },
  {
   "cell_type": "code",
   "execution_count": 69,
   "metadata": {},
   "outputs": [
    {
     "data": {
      "text/plain": [
       "[<matplotlib.lines.Line2D at 0x7f7789bee4d0>]"
      ]
     },
     "execution_count": 69,
     "metadata": {},
     "output_type": "execute_result"
    },
    {
     "data": {
      "image/png": "[encoded data removed]",
      "text/plain": [
       "<Figure size 640x480 with 1 Axes>"
      ]
     },
     "metadata": {},
     "output_type": "display_data"
    }
   ],
   "source": [
    "plt.plot(np.arange(0,1000),model.cost_history)"
   ]
  },
  {
   "cell_type": "code",
   "execution_count": 70,
   "metadata": {},
   "outputs": [
    {
     "data": {
      "text/plain": [
       "310.15574885873826"
      ]
     },
     "execution_count": 70,
     "metadata": {},
     "output_type": "execute_result"
    }
   ],
   "source": [
    "model.cost_history[-1]"
   ]
  },
  {
   "cell_type": "code",
   "execution_count": 71,
   "metadata": {},
   "outputs": [],
   "source": [
    "reg = LinearRegression()\n"
   ]
  },
  {
   "cell_type": "code",
   "execution_count": 72,
   "metadata": {},
   "outputs": [
    {
     "data": {
      "text/html": [
       "<style>#sk-container-id-1 {color: black;}#sk-container-id-1 pre{padding: 0;}#sk-container-id-1 div.sk-toggleable {background-color: white;}#sk-container-id-1 label.sk-toggleable__label {cursor: pointer;display: block;width: 100%;margin-bottom: 0;padding: 0.3em;box-sizing: border-box;text-align: center;}#sk-container-id-1 label.sk-toggleable__label-arrow:before {content: \"▸\";float: left;margin-right: 0.25em;color: #696969;}#sk-container-id-1 label.sk-toggleable__label-arrow:hover:before {color: black;}#sk-container-id-1 div.sk-estimator:hover label.sk-toggleable__label-arrow:before {color: black;}#sk-container-id-1 div.sk-toggleable__content {max-height: 0;max-width: 0;overflow: hidden;text-align: left;background-color: #f0f8ff;}#sk-container-id-1 div.sk-toggleable__content pre {margin: 0.2em;color: black;border-radius: 0.25em;background-color: #f0f8ff;}#sk-container-id-1 input.sk-toggleable__control:checked~div.sk-toggleable__content {max-height: 200px;max-width: 100%;overflow: auto;}#sk-container-id-1 input.sk-toggleable__control:checked~label.sk-toggleable__label-arrow:before {content: \"▾\";}#sk-container-id-1 div.sk-estimator input.sk-toggleable__control:checked~label.sk-toggleable__label {background-color: #d4ebff;}#sk-container-id-1 div.sk-label input.sk-toggleable__control:checked~label.sk-toggleable__label {background-color: #d4ebff;}#sk-container-id-1 input.sk-hidden--visually {border: 0;clip: rect(1px 1px 1px 1px);clip: rect(1px, 1px, 1px, 1px);height: 1px;margin: -1px;overflow: hidden;padding: 0;position: absolute;width: 1px;}#sk-container-id-1 div.sk-estimator {font-family: monospace;background-color: #f0f8ff;border: 1px dotted black;border-radius: 0.25em;box-sizing: border-box;margin-bottom: 0.5em;}#sk-container-id-1 div.sk-estimator:hover {background-color: #d4ebff;}#sk-container-id-1 div.sk-parallel-item::after {content: \"\";width: 100%;border-bottom: 1px solid gray;flex-grow: 1;}#sk-container-id-1 div.sk-label:hover label.sk-toggleable__label {background-color: #d4ebff;}#sk-container-id-1 div.sk-serial::before {content: \"\";position: absolute;border-left: 1px solid gray;box-sizing: border-box;top: 0;bottom: 0;left: 50%;z-index: 0;}#sk-container-id-1 div.sk-serial {display: flex;flex-direction: column;align-items: center;background-color: white;padding-right: 0.2em;padding-left: 0.2em;position: relative;}#sk-container-id-1 div.sk-item {position: relative;z-index: 1;}#sk-container-id-1 div.sk-parallel {display: flex;align-items: stretch;justify-content: center;background-color: white;position: relative;}#sk-container-id-1 div.sk-item::before, #sk-container-id-1 div.sk-parallel-item::before {content: \"\";position: absolute;border-left: 1px solid gray;box-sizing: border-box;top: 0;bottom: 0;left: 50%;z-index: -1;}#sk-container-id-1 div.sk-parallel-item {display: flex;flex-direction: column;z-index: 1;position: relative;background-color: white;}#sk-container-id-1 div.sk-parallel-item:first-child::after {align-self: flex-end;width: 50%;}#sk-container-id-1 div.sk-parallel-item:last-child::after {align-self: flex-start;width: 50%;}#sk-container-id-1 div.sk-parallel-item:only-child::after {width: 0;}#sk-container-id-1 div.sk-dashed-wrapped {border: 1px dashed gray;margin: 0 0.4em 0.5em 0.4em;box-sizing: border-box;padding-bottom: 0.4em;background-color: white;}#sk-container-id-1 div.sk-label label {font-family: monospace;font-weight: bold;display: inline-block;line-height: 1.2em;}#sk-container-id-1 div.sk-label-container {text-align: center;}#sk-container-id-1 div.sk-container {/* jupyter's `normalize.less` sets `[hidden] { display: none; }` but bootstrap.min.css set `[hidden] { display: none !important; }` so we also need the `!important` here to be able to override the default hidden behavior on the sphinx rendered scikit-learn.org. See: https://github.com/scikit-learn/scikit-learn/issues/21755 */display: inline-block !important;position: relative;}#sk-container-id-1 div.sk-text-repr-fallback {display: none;}</style><div id=\"sk-container-id-1\" class=\"sk-top-container\"><div class=\"sk-text-repr-fallback\"><pre>LinearRegression()</pre><b>In a Jupyter environment, please rerun this cell to show the HTML representation or trust the notebook. <br />On GitHub, the HTML representation is unable to render, please try loading this page with nbviewer.org.</b></div><div class=\"sk-container\" hidden><div class=\"sk-item\"><div class=\"sk-estimator sk-toggleable\"><input class=\"sk-toggleable__control sk-hidden--visually\" id=\"sk-estimator-id-1\" type=\"checkbox\" checked><label for=\"sk-estimator-id-1\" class=\"sk-toggleable__label sk-toggleable__label-arrow\">LinearRegression</label><div class=\"sk-toggleable__content\"><pre>LinearRegression()</pre></div></div></div></div></div>"
      ],
      "text/plain": [
       "LinearRegression()"
      ]
     },
     "execution_count": 72,
     "metadata": {},
     "output_type": "execute_result"
    }
   ],
   "source": [
    "reg.fit(X_train,Y_train)\n"
   ]
  },
  {
   "cell_type": "code",
   "execution_count": 75,
   "metadata": {},
   "outputs": [
    {
     "data": {
      "text/plain": [
       "587.443120769083"
      ]
     },
     "execution_count": 75,
     "metadata": {},
     "output_type": "execute_result"
    }
   ],
   "source": [
    "reg.intercept_"
   ]
  },
  {
   "cell_type": "code",
   "execution_count": 76,
   "metadata": {},
   "outputs": [
    {
     "data": {
      "text/plain": [
       "586.9072080318866"
      ]
     },
     "execution_count": 76,
     "metadata": {},
     "output_type": "execute_result"
    }
   ],
   "source": [
    "model.b"
   ]
  },
  {
   "cell_type": "code",
   "execution_count": 77,
   "metadata": {},
   "outputs": [
    {
     "data": {
      "text/plain": [
       "array([ 5.76666459e+00,  1.53443425e+00, -8.67931325e+00,  1.64322579e+00,\n",
       "       -4.53011377e+01, -4.40881326e+00, -2.65717172e+00, -1.63111155e+00,\n",
       "        1.53893410e+00,  1.79898292e+00, -4.67931030e-01, -6.79541165e-01,\n",
       "        2.67483310e+00,  2.70007061e+00,  3.84214310e-01, -1.62146303e+00,\n",
       "        6.82415951e-01, -2.72555129e+00,  2.72102165e+00,  2.17872334e+00,\n",
       "       -8.27711350e+00, -1.18123111e+00, -9.01332530e-01,  4.11943378e-01,\n",
       "       -4.98120136e+00,  1.23320337e+00, -1.08960827e+00,  1.63002776e+00,\n",
       "       -6.94545986e-01,  8.49767678e-01,  3.41495356e+00,  1.66153949e+00,\n",
       "        4.00920688e-01, -8.36884758e+00,  4.21648658e+00,  9.01252422e-01,\n",
       "       -7.37982946e-01, -2.31329681e+00, -2.05397585e+00, -9.93790536e-01,\n",
       "       -1.02518463e-01,  4.51489119e+00,  2.72516451e+00, -5.25006001e-01,\n",
       "        1.00538482e+00, -7.27161197e-01, -2.45663422e+00, -1.56606791e+00,\n",
       "        3.19560708e-01,  3.19275512e-01, -5.53358554e-01,  3.13480469e+00,\n",
       "       -2.41758458e+00, -1.01918274e+00,  1.77893742e+00,  1.75412906e+00,\n",
       "       -2.09838581e+00, -2.23938463e+00, -1.34292929e+00,  1.87130493e+00,\n",
       "        1.85565188e+00, -1.33647866e+00, -6.68572184e-01, -1.71592792e+00,\n",
       "        1.21513672e+00,  2.98221119e-01,  1.56874604e+00,  1.51358800e+00,\n",
       "       -1.02769606e+00, -1.83675264e+00,  4.17718805e+00, -2.86147872e-02,\n",
       "        1.56645075e+00, -4.39974036e-01, -8.96213731e+00, -2.36523847e+00,\n",
       "        6.32880580e-01, -1.16472261e+00, -8.29262246e+00, -2.07773711e+00,\n",
       "       -1.14290531e+00, -4.73060161e-01,  1.80807383e+00,  1.70385477e+00])"
      ]
     },
     "execution_count": 77,
     "metadata": {},
     "output_type": "execute_result"
    }
   ],
   "source": [
    "model.W"
   ]
  },
  {
   "cell_type": "code",
   "execution_count": 78,
   "metadata": {},
   "outputs": [
    {
     "data": {
      "text/plain": [
       "array([ 2.06966350e+01,  4.29036856e+00, -7.26010818e-01, -1.43344219e+00,\n",
       "       -5.47987353e+01,  3.79693772e+00,  1.47291604e+02, -1.67100911e+02,\n",
       "        3.17835140e-01,  3.93838139e+00, -1.55534015e+00, -8.92012113e-02,\n",
       "        2.27663106e+02, -1.93080545e+02,  2.21372417e-01,  2.10554112e+00,\n",
       "       -1.87946391e+00, -2.19355483e+00,  2.77444909e+02, -2.57644535e+02,\n",
       "       -5.57653479e+00, -1.15233251e+00, -2.92029634e+00,  7.45405314e-01,\n",
       "       -4.48906410e+00, -6.50179734e-01, -7.17782894e-01,  4.81425054e+00,\n",
       "       -3.42443013e+00,  1.13638935e+00,  1.30615203e+02, -1.06227366e+02,\n",
       "        1.95824972e+00, -7.13010083e+00,  6.05173847e+00,  1.11412074e+00,\n",
       "        4.57744776e+02, -3.82657084e+02, -9.36517947e-01,  2.20584983e+00,\n",
       "        1.30661628e+01,  5.78995896e+00,  1.27432545e+02, -1.21231691e+02,\n",
       "        2.23969791e+00, -1.37155860e+00, -6.92723414e+00, -2.78487490e+00,\n",
       "       -1.20224263e+04,  1.20980555e+04, -9.38074163e-01,  5.38783625e+00,\n",
       "       -2.75944206e+00, -9.90771780e-01,  1.30263807e+02, -1.01768544e+02,\n",
       "       -9.42081104e-01,  3.19563386e+00,  1.96100485e+00,  6.40054928e-02,\n",
       "        7.55534880e+02, -7.50973760e+02, -3.24659219e-01,  5.40159208e+00,\n",
       "       -2.26460827e+00, -3.78416026e-01,  1.47376245e+02, -1.52409492e+02,\n",
       "       -6.27790762e-01,  1.38108002e+00, -7.39316398e+00, -2.22779164e-01,\n",
       "       -1.90743631e+03,  1.68504858e+03, -1.15538086e+01, -4.21057603e+00,\n",
       "        2.02759595e+00, -6.92839762e-01, -9.88971719e+00, -4.43529226e-01,\n",
       "       -1.79093515e+00, -9.69706841e-01, -8.35337912e-01, -4.22597071e+00])"
      ]
     },
     "execution_count": 78,
     "metadata": {},
     "output_type": "execute_result"
    }
   ],
   "source": [
    "reg.coef_"
   ]
  },
  {
   "cell_type": "code",
   "execution_count": 79,
   "metadata": {},
   "outputs": [],
   "source": [
    "reg_pred=reg.predict(X_test)"
   ]
  },
  {
   "cell_type": "code",
   "execution_count": 80,
   "metadata": {},
   "outputs": [],
   "source": [
    "model_pred=model.predict(X_test)"
   ]
  },
  {
   "cell_type": "code",
   "execution_count": 83,
   "metadata": {},
   "outputs": [
    {
     "data": {
      "text/plain": [
       "0.7679518026079111"
      ]
     },
     "execution_count": 83,
     "metadata": {},
     "output_type": "execute_result"
    }
   ],
   "source": [
    "r2_score(Y_test,reg_pred)"
   ]
  },
  {
   "cell_type": "code",
   "execution_count": 84,
   "metadata": {},
   "outputs": [
    {
     "data": {
      "text/plain": [
       "0.7779461110912965"
      ]
     },
     "execution_count": 84,
     "metadata": {},
     "output_type": "execute_result"
    }
   ],
   "source": [
    "r2_score(Y_test,model_pred)"
   ]
  },
  {
   "cell_type": "code",
   "execution_count": 86,
   "metadata": {},
   "outputs": [],
   "source": [
    "residual = Y_test-model_pred"
   ]
  },
  {
   "cell_type": "code",
   "execution_count": 87,
   "metadata": {},
   "outputs": [
    {
     "data": {
      "text/plain": [
       "<matplotlib.collections.PathCollection at 0x7f778a9ee290>"
      ]
     },
     "execution_count": 87,
     "metadata": {},
     "output_type": "execute_result"
    },
    {
     "data": {
      "image/png": "[encoded data removed]",
      "text/plain": [
       "<Figure size 640x480 with 1 Axes>"
      ]
     },
     "metadata": {},
     "output_type": "display_data"
    }
   ],
   "source": [
    "plt.scatter(Y_test, residual)"
   ]
  },
  {
   "cell_type": "code",
   "execution_count": 116,
   "metadata": {},
   "outputs": [],
   "source": [
    "model1= logistic.Logistic_Regression(learning_rate=0.1, iterations=10000, lambda_=1)"
   ]
  },
  {
   "cell_type": "code",
   "execution_count": 117,
   "metadata": {},
   "outputs": [
    {
     "data": {
      "text/plain": [
       "<models.logistic_regression.Logistic_Regression at 0x7f7786ed6110>"
      ]
     },
     "execution_count": 117,
     "metadata": {},
     "output_type": "execute_result"
    }
   ],
   "source": [
    "model1.fit(X_train,Y_train)"
   ]
  },
  {
   "cell_type": "code",
   "execution_count": 122,
   "metadata": {},
   "outputs": [],
   "source": [
    "y = model1.predict(X_test)"
   ]
  },
  {
   "cell_type": "code",
   "execution_count": 123,
   "metadata": {},
   "outputs": [
    {
     "data": {
      "text/plain": [
       "array([[118, 127],\n",
       "       [ 27,  62]])"
      ]
     },
     "execution_count": 123,
     "metadata": {},
     "output_type": "execute_result"
    }
   ],
   "source": [
    "confusion_matrix(Y_test,y)"
   ]
  },
  {
   "cell_type": "code",
   "execution_count": 101,
   "metadata": {},
   "outputs": [],
   "source": [
    "log= LogisticRegression()\n"
   ]
  },
  {
   "cell_type": "code",
   "execution_count": 102,
   "metadata": {},
   "outputs": [
    {
     "name": "stderr",
     "output_type": "stream",
     "text": [
      "/home/lenizio/.local/lib/python3.10/site-packages/sklearn/linear_model/_logistic.py:460: ConvergenceWarning: lbfgs failed to converge (status=1):\n",
      "STOP: TOTAL NO. of ITERATIONS REACHED LIMIT.\n",
      "\n",
      "Increase the number of iterations (max_iter) or scale the data as shown in:\n",
      "    https://scikit-learn.org/stable/modules/preprocessing.html\n",
      "Please also refer to the documentation for alternative solver options:\n",
      "    https://scikit-learn.org/stable/modules/linear_model.html#logistic-regression\n",
      "  n_iter_i = _check_optimize_result(\n"
     ]
    },
    {
     "data": {
      "text/html": [
       "<style>#sk-container-id-2 {color: black;}#sk-container-id-2 pre{padding: 0;}#sk-container-id-2 div.sk-toggleable {background-color: white;}#sk-container-id-2 label.sk-toggleable__label {cursor: pointer;display: block;width: 100%;margin-bottom: 0;padding: 0.3em;box-sizing: border-box;text-align: center;}#sk-container-id-2 label.sk-toggleable__label-arrow:before {content: \"▸\";float: left;margin-right: 0.25em;color: #696969;}#sk-container-id-2 label.sk-toggleable__label-arrow:hover:before {color: black;}#sk-container-id-2 div.sk-estimator:hover label.sk-toggleable__label-arrow:before {color: black;}#sk-container-id-2 div.sk-toggleable__content {max-height: 0;max-width: 0;overflow: hidden;text-align: left;background-color: #f0f8ff;}#sk-container-id-2 div.sk-toggleable__content pre {margin: 0.2em;color: black;border-radius: 0.25em;background-color: #f0f8ff;}#sk-container-id-2 input.sk-toggleable__control:checked~div.sk-toggleable__content {max-height: 200px;max-width: 100%;overflow: auto;}#sk-container-id-2 input.sk-toggleable__control:checked~label.sk-toggleable__label-arrow:before {content: \"▾\";}#sk-container-id-2 div.sk-estimator input.sk-toggleable__control:checked~label.sk-toggleable__label {background-color: #d4ebff;}#sk-container-id-2 div.sk-label input.sk-toggleable__control:checked~label.sk-toggleable__label {background-color: #d4ebff;}#sk-container-id-2 input.sk-hidden--visually {border: 0;clip: rect(1px 1px 1px 1px);clip: rect(1px, 1px, 1px, 1px);height: 1px;margin: -1px;overflow: hidden;padding: 0;position: absolute;width: 1px;}#sk-container-id-2 div.sk-estimator {font-family: monospace;background-color: #f0f8ff;border: 1px dotted black;border-radius: 0.25em;box-sizing: border-box;margin-bottom: 0.5em;}#sk-container-id-2 div.sk-estimator:hover {background-color: #d4ebff;}#sk-container-id-2 div.sk-parallel-item::after {content: \"\";width: 100%;border-bottom: 1px solid gray;flex-grow: 1;}#sk-container-id-2 div.sk-label:hover label.sk-toggleable__label {background-color: #d4ebff;}#sk-container-id-2 div.sk-serial::before {content: \"\";position: absolute;border-left: 1px solid gray;box-sizing: border-box;top: 0;bottom: 0;left: 50%;z-index: 0;}#sk-container-id-2 div.sk-serial {display: flex;flex-direction: column;align-items: center;background-color: white;padding-right: 0.2em;padding-left: 0.2em;position: relative;}#sk-container-id-2 div.sk-item {position: relative;z-index: 1;}#sk-container-id-2 div.sk-parallel {display: flex;align-items: stretch;justify-content: center;background-color: white;position: relative;}#sk-container-id-2 div.sk-item::before, #sk-container-id-2 div.sk-parallel-item::before {content: \"\";position: absolute;border-left: 1px solid gray;box-sizing: border-box;top: 0;bottom: 0;left: 50%;z-index: -1;}#sk-container-id-2 div.sk-parallel-item {display: flex;flex-direction: column;z-index: 1;position: relative;background-color: white;}#sk-container-id-2 div.sk-parallel-item:first-child::after {align-self: flex-end;width: 50%;}#sk-container-id-2 div.sk-parallel-item:last-child::after {align-self: flex-start;width: 50%;}#sk-container-id-2 div.sk-parallel-item:only-child::after {width: 0;}#sk-container-id-2 div.sk-dashed-wrapped {border: 1px dashed gray;margin: 0 0.4em 0.5em 0.4em;box-sizing: border-box;padding-bottom: 0.4em;background-color: white;}#sk-container-id-2 div.sk-label label {font-family: monospace;font-weight: bold;display: inline-block;line-height: 1.2em;}#sk-container-id-2 div.sk-label-container {text-align: center;}#sk-container-id-2 div.sk-container {/* jupyter's `normalize.less` sets `[hidden] { display: none; }` but bootstrap.min.css set `[hidden] { display: none !important; }` so we also need the `!important` here to be able to override the default hidden behavior on the sphinx rendered scikit-learn.org. See: https://github.com/scikit-learn/scikit-learn/issues/21755 */display: inline-block !important;position: relative;}#sk-container-id-2 div.sk-text-repr-fallback {display: none;}</style><div id=\"sk-container-id-2\" class=\"sk-top-container\"><div class=\"sk-text-repr-fallback\"><pre>LogisticRegression()</pre><b>In a Jupyter environment, please rerun this cell to show the HTML representation or trust the notebook. <br />On GitHub, the HTML representation is unable to render, please try loading this page with nbviewer.org.</b></div><div class=\"sk-container\" hidden><div class=\"sk-item\"><div class=\"sk-estimator sk-toggleable\"><input class=\"sk-toggleable__control sk-hidden--visually\" id=\"sk-estimator-id-2\" type=\"checkbox\" checked><label for=\"sk-estimator-id-2\" class=\"sk-toggleable__label sk-toggleable__label-arrow\">LogisticRegression</label><div class=\"sk-toggleable__content\"><pre>LogisticRegression()</pre></div></div></div></div></div>"
      ],
      "text/plain": [
       "LogisticRegression()"
      ]
     },
     "execution_count": 102,
     "metadata": {},
     "output_type": "execute_result"
    }
   ],
   "source": [
    "log.fit(X_train,Y_train)"
   ]
  },
  {
   "cell_type": "code",
   "execution_count": 104,
   "metadata": {},
   "outputs": [
    {
     "data": {
      "text/plain": [
       "array([-1.17924794])"
      ]
     },
     "execution_count": 104,
     "metadata": {},
     "output_type": "execute_result"
    }
   ],
   "source": [
    "log.intercept_\n"
   ]
  },
  {
   "cell_type": "code",
   "execution_count": 106,
   "metadata": {},
   "outputs": [
    {
     "data": {
      "text/plain": [
       "-1.1788116520121752"
      ]
     },
     "execution_count": 106,
     "metadata": {},
     "output_type": "execute_result"
    }
   ],
   "source": [
    "model1.b"
   ]
  },
  {
   "cell_type": "code",
   "execution_count": 107,
   "metadata": {},
   "outputs": [],
   "source": [
    "y_=log.predict(X_test)"
   ]
  },
  {
   "cell_type": "code",
   "execution_count": 120,
   "metadata": {},
   "outputs": [
    {
     "data": {
      "text/plain": [
       "array([[223,  22],\n",
       "       [ 71,  18]])"
      ]
     },
     "execution_count": 120,
     "metadata": {},
     "output_type": "execute_result"
    }
   ],
   "source": [
    "confusion_matrix(Y_test,y_)"
   ]
  },
  {
   "cell_type": "code",
   "execution_count": 121,
   "metadata": {},
   "outputs": [
    {
     "data": {
      "text/plain": [
       "array([[118, 127],\n",
       "       [ 27,  62]])"
      ]
     },
     "execution_count": 121,
     "metadata": {},
     "output_type": "execute_result"
    }
   ],
   "source": [
    "confusion_matrix(Y_test,y)"
   ]
  },
  {
   "cell_type": "code",
   "execution_count": 110,
   "metadata": {},
   "outputs": [
    {
     "data": {
      "text/plain": [
       "[<matplotlib.lines.Line2D at 0x7f7786ebc2e0>]"
      ]
     },
     "execution_count": 110,
     "metadata": {},
     "output_type": "execute_result"
    },
    {
     "data": {
      "image/png": "[encoded data removed]",
      "text/plain": [
       "<Figure size 640x480 with 1 Axes>"
      ]
     },
     "metadata": {},
     "output_type": "display_data"
    }
   ],
   "source": [
    "plt.plot(np.arange(0,10000),model1.cost_history)"
   ]
  },
  {
   "cell_type": "code",
   "execution_count": 14,
   "metadata": {},
   "outputs": [],
   "source": [
    "model= logistic.Logistic_Regression(learning_rate=0.1, iterations=10000, lambda_=1)"
   ]
  },
  {
   "cell_type": "code",
   "execution_count": 15,
   "metadata": {},
   "outputs": [
    {
     "data": {
      "text/plain": [
       "<models.logistic_regression.Logistic_Regression at 0x7f99d7c2a200>"
      ]
     },
     "execution_count": 15,
     "metadata": {},
     "output_type": "execute_result"
    }
   ],
   "source": [
    "model.fit(X_train,Y_train)"
   ]
  },
  {
   "cell_type": "code",
   "execution_count": 16,
   "metadata": {},
   "outputs": [],
   "source": [
    "y= model.predict(X_test)"
   ]
  },
  {
   "cell_type": "code",
   "execution_count": 17,
   "metadata": {},
   "outputs": [
    {
     "data": {
      "text/plain": [
       "array([[222,  23],\n",
       "       [ 71,  18]])"
      ]
     },
     "execution_count": 17,
     "metadata": {},
     "output_type": "execute_result"
    }
   ],
   "source": [
    "confusion_matrix(Y_test,y)"
   ]
  },
  {
   "cell_type": "code",
   "execution_count": 18,
   "metadata": {},
   "outputs": [
    {
     "name": "stderr",
     "output_type": "stream",
     "text": [
      "/home/lenizio/.local/lib/python3.10/site-packages/sklearn/linear_model/_logistic.py:460: ConvergenceWarning: lbfgs failed to converge (status=1):\n",
      "STOP: TOTAL NO. of ITERATIONS REACHED LIMIT.\n",
      "\n",
      "Increase the number of iterations (max_iter) or scale the data as shown in:\n",
      "    https://scikit-learn.org/stable/modules/preprocessing.html\n",
      "Please also refer to the documentation for alternative solver options:\n",
      "    https://scikit-learn.org/stable/modules/linear_model.html#logistic-regression\n",
      "  n_iter_i = _check_optimize_result(\n"
     ]
    },
    {
     "data": {
      "text/html": [
       "<style>#sk-container-id-1 {color: black;}#sk-container-id-1 pre{padding: 0;}#sk-container-id-1 div.sk-toggleable {background-color: white;}#sk-container-id-1 label.sk-toggleable__label {cursor: pointer;display: block;width: 100%;margin-bottom: 0;padding: 0.3em;box-sizing: border-box;text-align: center;}#sk-container-id-1 label.sk-toggleable__label-arrow:before {content: \"▸\";float: left;margin-right: 0.25em;color: #696969;}#sk-container-id-1 label.sk-toggleable__label-arrow:hover:before {color: black;}#sk-container-id-1 div.sk-estimator:hover label.sk-toggleable__label-arrow:before {color: black;}#sk-container-id-1 div.sk-toggleable__content {max-height: 0;max-width: 0;overflow: hidden;text-align: left;background-color: #f0f8ff;}#sk-container-id-1 div.sk-toggleable__content pre {margin: 0.2em;color: black;border-radius: 0.25em;background-color: #f0f8ff;}#sk-container-id-1 input.sk-toggleable__control:checked~div.sk-toggleable__content {max-height: 200px;max-width: 100%;overflow: auto;}#sk-container-id-1 input.sk-toggleable__control:checked~label.sk-toggleable__label-arrow:before {content: \"▾\";}#sk-container-id-1 div.sk-estimator input.sk-toggleable__control:checked~label.sk-toggleable__label {background-color: #d4ebff;}#sk-container-id-1 div.sk-label input.sk-toggleable__control:checked~label.sk-toggleable__label {background-color: #d4ebff;}#sk-container-id-1 input.sk-hidden--visually {border: 0;clip: rect(1px 1px 1px 1px);clip: rect(1px, 1px, 1px, 1px);height: 1px;margin: -1px;overflow: hidden;padding: 0;position: absolute;width: 1px;}#sk-container-id-1 div.sk-estimator {font-family: monospace;background-color: #f0f8ff;border: 1px dotted black;border-radius: 0.25em;box-sizing: border-box;margin-bottom: 0.5em;}#sk-container-id-1 div.sk-estimator:hover {background-color: #d4ebff;}#sk-container-id-1 div.sk-parallel-item::after {content: \"\";width: 100%;border-bottom: 1px solid gray;flex-grow: 1;}#sk-container-id-1 div.sk-label:hover label.sk-toggleable__label {background-color: #d4ebff;}#sk-container-id-1 div.sk-serial::before {content: \"\";position: absolute;border-left: 1px solid gray;box-sizing: border-box;top: 0;bottom: 0;left: 50%;z-index: 0;}#sk-container-id-1 div.sk-serial {display: flex;flex-direction: column;align-items: center;background-color: white;padding-right: 0.2em;padding-left: 0.2em;position: relative;}#sk-container-id-1 div.sk-item {position: relative;z-index: 1;}#sk-container-id-1 div.sk-parallel {display: flex;align-items: stretch;justify-content: center;background-color: white;position: relative;}#sk-container-id-1 div.sk-item::before, #sk-container-id-1 div.sk-parallel-item::before {content: \"\";position: absolute;border-left: 1px solid gray;box-sizing: border-box;top: 0;bottom: 0;left: 50%;z-index: -1;}#sk-container-id-1 div.sk-parallel-item {display: flex;flex-direction: column;z-index: 1;position: relative;background-color: white;}#sk-container-id-1 div.sk-parallel-item:first-child::after {align-self: flex-end;width: 50%;}#sk-container-id-1 div.sk-parallel-item:last-child::after {align-self: flex-start;width: 50%;}#sk-container-id-1 div.sk-parallel-item:only-child::after {width: 0;}#sk-container-id-1 div.sk-dashed-wrapped {border: 1px dashed gray;margin: 0 0.4em 0.5em 0.4em;box-sizing: border-box;padding-bottom: 0.4em;background-color: white;}#sk-container-id-1 div.sk-label label {font-family: monospace;font-weight: bold;display: inline-block;line-height: 1.2em;}#sk-container-id-1 div.sk-label-container {text-align: center;}#sk-container-id-1 div.sk-container {/* jupyter's `normalize.less` sets `[hidden] { display: none; }` but bootstrap.min.css set `[hidden] { display: none !important; }` so we also need the `!important` here to be able to override the default hidden behavior on the sphinx rendered scikit-learn.org. See: https://github.com/scikit-learn/scikit-learn/issues/21755 */display: inline-block !important;position: relative;}#sk-container-id-1 div.sk-text-repr-fallback {display: none;}</style><div id=\"sk-container-id-1\" class=\"sk-top-container\"><div class=\"sk-text-repr-fallback\"><pre>LogisticRegression()</pre><b>In a Jupyter environment, please rerun this cell to show the HTML representation or trust the notebook. <br />On GitHub, the HTML representation is unable to render, please try loading this page with nbviewer.org.</b></div><div class=\"sk-container\" hidden><div class=\"sk-item\"><div class=\"sk-estimator sk-toggleable\"><input class=\"sk-toggleable__control sk-hidden--visually\" id=\"sk-estimator-id-1\" type=\"checkbox\" checked><label for=\"sk-estimator-id-1\" class=\"sk-toggleable__label sk-toggleable__label-arrow\">LogisticRegression</label><div class=\"sk-toggleable__content\"><pre>LogisticRegression()</pre></div></div></div></div></div>"
      ],
      "text/plain": [
       "LogisticRegression()"
      ]
     },
     "execution_count": 18,
     "metadata": {},
     "output_type": "execute_result"
    }
   ],
   "source": [
    "log= LogisticRegression()\n",
    "log.fit(X_train,Y_train)"
   ]
  },
  {
   "cell_type": "code",
   "execution_count": 19,
   "metadata": {},
   "outputs": [],
   "source": [
    "y_ =log.predict(X_test)"
   ]
  },
  {
   "cell_type": "code",
   "execution_count": 20,
   "metadata": {},
   "outputs": [
    {
     "data": {
      "text/plain": [
       "array([[223,  22],\n",
       "       [ 71,  18]])"
      ]
     },
     "execution_count": 20,
     "metadata": {},
     "output_type": "execute_result"
    }
   ],
   "source": [
    "confusion_matrix(Y_test,y_)"
   ]
  },
  {
   "cell_type": "code",
   "execution_count": 21,
   "metadata": {},
   "outputs": [
    {
     "data": {
      "text/plain": [
       "array([[222,  23],\n",
       "       [ 71,  18]])"
      ]
     },
     "execution_count": 21,
     "metadata": {},
     "output_type": "execute_result"
    }
   ],
   "source": [
    "confusion_matrix(Y_test,y)"
   ]
  },
  {
   "cell_type": "code",
   "execution_count": null,
   "metadata": {},
   "outputs": [],
   "source": []
  }
 ],
 "metadata": {
  "kernelspec": {
   "display_name": "Python 3",
   "language": "python",
   "name": "python3"
  },
  "language_info": {
   "codemirror_mode": {
    "name": "ipython",
    "version": 3
   },
   "file_extension": ".py",
   "mimetype": "text/x-python",
   "name": "python",
   "nbconvert_exporter": "python",
   "pygments_lexer": "ipython3",
   "version": "3.10.12"
  }
 },
 "nbformat": 4,
 "nbformat_minor": 2
}
